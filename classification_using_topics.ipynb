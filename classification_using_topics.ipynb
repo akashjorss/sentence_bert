{
 "metadata": {
  "language_info": {
   "codemirror_mode": {
    "name": "ipython",
    "version": 3
   },
   "file_extension": ".py",
   "mimetype": "text/x-python",
   "name": "python",
   "nbconvert_exporter": "python",
   "pygments_lexer": "ipython3",
   "version": "3.8.0"
  },
  "orig_nbformat": 4,
  "kernelspec": {
   "name": "python3",
   "display_name": "Python 3.8.0 64-bit ('topic_modelling': conda)"
  },
  "interpreter": {
   "hash": "33ea4571294b160a8c9ba59d2d1217d533cade9e0aa979f130bb0787997e3281"
  }
 },
 "nbformat": 4,
 "nbformat_minor": 2,
 "cells": [
  {
   "cell_type": "code",
   "execution_count": null,
   "metadata": {},
   "outputs": [],
   "source": [
    "#imports\n",
    "import random\n",
    "from tqdm import tqdm\n",
    "import numpy as np\n",
    "import os\n",
    "import matplotlib.pyplot as plt\n",
    "import pandas as pd\n",
    "\n",
    "#transformer imports\n",
    "from top2vec import Top2Vec\n"
   ]
  },
  {
   "cell_type": "code",
   "execution_count": null,
   "metadata": {},
   "outputs": [],
   "source": [
    "import ssl\n",
    "ssl._create_default_https_context = ssl._create_unverified_context"
   ]
  },
  {
   "cell_type": "code",
   "execution_count": null,
   "metadata": {},
   "outputs": [],
   "source": [
    "model = Top2Vec.load(\"models/use_top2vec_without_preprocessing.bin\")\n",
    "model.hierarchical_topic_reduction(20)\n",
    "print(\"\")"
   ]
  },
  {
   "cell_type": "code",
   "execution_count": null,
   "metadata": {},
   "outputs": [],
   "source": [
    "for topic_num in range(20):\n",
    "  model.generate_topic_wordcloud(topic_num, background_color='white', reduced=True)"
   ]
  },
  {
   "cell_type": "code",
   "execution_count": null,
   "metadata": {},
   "outputs": [],
   "source": [
    "topics = {\n",
    "\t0:'room',\n",
    "\t1:'staff',\n",
    "\t2:'miscellenous',\n",
    "\t3:'sentiment',\n",
    "\t4:'miscellenous',\n",
    "\t5:'cleanliness',\n",
    "\t6:'location', #includes a lot of words for parking\n",
    "\t7:'bathroom',\n",
    "\t8:'miscellenous',\n",
    "\t9:'cleanliness',\n",
    "\t10:'comfort', #includes lots of words for bed\n",
    "\t11:'sentiment',\n",
    "\t12:'booking',\n",
    "\t13:'location',\n",
    "\t14:'sentiment',\n",
    "\t15:'food',\n",
    "\t16:'booking',\n",
    "\t17:'food',\n",
    "\t18:'food',\n",
    "\t19:'sleep_quality' #includes lots of noise words\n",
    "}"
   ]
  },
  {
   "cell_type": "code",
   "execution_count": null,
   "metadata": {},
   "outputs": [],
   "source": [
    "docs = [\"They forgot to mention the outside gates were shut between certain times.\",\n",
    "\"Not a problem in itself as it's the same key as the main doors.\",\n",
    "\"However, as we had to check out at 8am to get to the airport we were told to leave the keys in the flat and shut the door behind us.\",\n",
    "\"Luckily I checked to see if the gates were open (they needed the key to open from the inside as well).\",\n",
    "\"The gates were still shut, so we had to open the gates, one of us stayed there to keep open and make sure no one came in while the other dropped the keys back in the flat.Otherwise everything else was great.\",\n",
    "\"Great location.\",\n",
    "\"Very clean apartment and week equipped.\",\n",
    "\"Comfortable beds, spacious  rooms.\",\n",
    "\"Friendly staff.\",\n",
    "\"All good All\",\n",
    "\"Just one little negative - the coffee pods provided were the wrong size.\",\n",
    "\"However, one short text to the owner, and everything was sorted quickly.Thank you!\",\n",
    "\"I appreciated the spaciousness of the layout as well as the quality of the equipment provided.\",\n",
    "\"It was also ideally situated for my trip.\",\n",
    "\"The staff is very nice and helpful  All it's modern, restrooms, bedroom, rooftop.\",\n",
    "\"The elevator broke down on the last nite and wasn’t up till the next morning.\",\n",
    "\"Not a great variety of food around and it’s a bit of walking although hosts gives u a lot of location and data of restaurants.\",\n",
    "\"I would advise families with toddlers to stay away.\",\n",
    "\"It’s an apartment in a 1970s flat.\",\n",
    "\"A good mix of old and new.\",\n",
    "\"The apartment itself was ‘state of the art’ almost perfect interiors and design.\",\n",
    "\"Hosts were very helpful for an unfortunate event for me.\",\n",
    "\"Not really difficult to find, but I feel directions should be a bit more foolproof.\"\n",
    "\"Would have been perfect except I had to struggle the last nite and my check out morning due to faulty elevator.\",\n",
    "\"Had luggages and a baby to settle.\",\n",
    "\"No criticism.\",\n",
    "\"Very helpful & friendly staff at reception.\",\n",
    "\"Fast check-in and check-out.\",\n",
    "\"Very close to the main train and metro station with many stores.\",\n",
    "\"Clean and comfortable.\",\n",
    "\"Breakfast is not so much choices.\",\n",
    "\"Near to Airport.\",\n",
    "\"The shower was not working very well.\"]"
   ]
  },
  {
   "cell_type": "code",
   "execution_count": null,
   "metadata": {},
   "outputs": [],
   "source": [
    "_model = model #make a copy\n",
    "doc_ids = range(148114, 148114+len(docs))\n",
    "docs_dict = {}\n",
    "for i, doc in zip(doc_ids, docs):\n",
    "    docs_dict[i] = doc\n",
    "_model.add_documents(docs, doc_ids)"
   ]
  },
  {
   "cell_type": "code",
   "execution_count": null,
   "metadata": {},
   "outputs": [],
   "source": [
    "topic_nums, _, _, _ = _model.get_documents_topics(list(doc_ids), reduced=True)\n",
    "topic_nums"
   ]
  },
  {
   "cell_type": "code",
   "execution_count": null,
   "metadata": {},
   "outputs": [],
   "source": [
    "for doc, topic_id in zip(docs, topic_nums):\n",
    "    print(doc+\" ---> \"+topics[topic_id])\n"
   ]
  },
  {
   "cell_type": "code",
   "execution_count": null,
   "metadata": {},
   "outputs": [],
   "source": [
    "#create a json. {sentence_id, sentence, aspect, sentiment_score}"
   ]
  },
  {
   "cell_type": "code",
   "execution_count": null,
   "metadata": {},
   "outputs": [],
   "source": [
    "#Sentiment analysis. \n",
    "from transformers import pipeline\n",
    "sentiment_analysis = pipeline(\"sentiment-analysis\",model=\"siebert/sentiment-roberta-large-english\")\n",
    "print(sentiment_analysis(\"I love this!\"))\n"
   ]
  },
  {
   "cell_type": "code",
   "execution_count": null,
   "metadata": {},
   "outputs": [],
   "source": [
    "import torch\n",
    "tsdae = torch.load('models/tsdae_without_preprocessing.bin', map_location=torch.device('cpu'))"
   ]
  },
  {
   "cell_type": "code",
   "execution_count": null,
   "metadata": {},
   "outputs": [],
   "source": [
    "import sentence_transformers\n",
    "model = sentence_transformers('tsdae')\n",
    "model = sentence_transformers.load('models/tsdae_without_preprocessing.bin')"
   ]
  },
  {
   "cell_type": "code",
   "execution_count": null,
   "metadata": {},
   "outputs": [],
   "source": [
    "from sentence_transformers import SentenceTransformer\n",
    "from sentence_transformers import models, util, datasets, evaluation, losses\n",
    "\n",
    "# Define your sentence transformer model using CLS pooling\n",
    "model_name = 'bert-base-uncased'\n",
    "word_embedding_model = models.Transformer(model_name)\n",
    "pooling_model = models.Pooling(word_embedding_model.get_word_embedding_dimension(), pooling_mode_mean_tokens=False, pooling_mode_cls_token=True, pooling_mode_max_tokens=False)\n",
    "model = SentenceTransformer(modules=[word_embedding_model, pooling_model])\n"
   ]
  },
  {
   "cell_type": "code",
   "execution_count": null,
   "metadata": {},
   "outputs": [],
   "source": [
    "model.load('models/tsdae_without_preprocessing')"
   ]
  },
  {
   "cell_type": "code",
   "execution_count": null,
   "metadata": {},
   "outputs": [],
   "source": []
  }
 ]
}