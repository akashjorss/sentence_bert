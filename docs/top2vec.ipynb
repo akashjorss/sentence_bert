{
  "nbformat": 4,
  "nbformat_minor": 0,
  "metadata": {
    "colab": {
      "name": "tensorboard_projector_plugin.ipynb",
      "provenance": [],
      "collapsed_sections": [],
      "toc_visible": true
    },
    "kernelspec": {
      "display_name": "Python 3",
      "name": "python3"
    }
  },
  "cells": [
    {
      "cell_type": "code",
      "metadata": {
        "id": "4JXr1g7obLM4"
      },
      "source": [
        "#different versio of numpy required for top2vec\n",
        "!pip uninstall numpy\n",
        "!pip install numpy==1.19.5"
      ],
      "execution_count": null,
      "outputs": []
    },
    {
      "cell_type": "code",
      "metadata": {
        "id": "yaOLePJuGjO_"
      },
      "source": [
        "#install the packages\n",
        "# !pip install sentence-transformers\n",
        "!pip install nltk\n",
        "!pip install torch\n",
        "!pip install tensorflow\n",
        "!pip install tensorboard\n",
        "!pip install top2vec\n",
        "!pip install top2vec[sentence_encoders]\n",
        "!pip install top2vec[sentence_transformers]\n",
        "!pip install top2vec[indexing]"
      ],
      "execution_count": null,
      "outputs": []
    },
    {
      "cell_type": "code",
      "metadata": {
        "id": "E_L0sV00ZLYi"
      },
      "source": [
        "#import required packages\n",
        "import random\n",
        "from tqdm import tqdm\n",
        "import numpy as np\n",
        "import os\n",
        "from sentence_transformers import SentenceTransformer\n",
        "import torch\n",
        "import nltk\n",
        "nltk.download('stopwords')\n",
        "nltk.download('punkt')\n",
        "nltk.download('averaged_perceptron_tagger')\n",
        "from nltk.corpus import stopwords\n",
        "from nltk.tokenize import word_tokenize\n"
      ],
      "execution_count": null,
      "outputs": []
    },
    {
      "cell_type": "code",
      "metadata": {
        "id": "olyW_M3saRRW"
      },
      "source": [
        "!git clone https://github.com/akashjorss/sentence_bert\n",
        "!unzip sentence_bert/sentences.zip\n",
        "import pickle\n",
        "with open('sentences.bin', 'rb') as f:\n",
        "  sentences = pickle.load(f)"
      ],
      "execution_count": null,
      "outputs": []
    },
    {
      "cell_type": "code",
      "metadata": {
        "id": "Q0on38X_aUTh"
      },
      "source": [
        "import tensorflow as tf\n",
        "import tensorflow_datasets as tfds\n",
        "from tensorboard.plugins import projector\n",
        "#load tensorboards with magics\n",
        "%tensorflow_version 2.x\n",
        "%load_ext tensorboard"
      ],
      "execution_count": null,
      "outputs": []
    },
    {
      "cell_type": "code",
      "metadata": {
        "id": "lNQdC9K5aZ8D",
        "outputId": "95fb6d9f-7ddf-418a-865c-55b34d88243c",
        "colab": {
          "base_uri": "https://localhost:8080/"
        }
      },
      "source": [
        "documents = sentences#random.choices(sentences,k = 5000)\n",
        "len(documents)"
      ],
      "execution_count": 12,
      "outputs": [
        {
          "output_type": "execute_result",
          "data": {
            "text/plain": [
              "986637"
            ]
          },
          "metadata": {
            "tags": []
          },
          "execution_count": 12
        }
      ]
    },
    {
      "cell_type": "code",
      "metadata": {
        "id": "HZ3yN_mdZY9G",
        "outputId": "e759788a-81fa-47ca-d7bf-3121a0aad333",
        "colab": {
          "base_uri": "https://localhost:8080/"
        }
      },
      "source": [
        "from top2vec import Top2Vec\n",
        "model = Top2Vec(documents, embedding_model='universal-sentence-encoder', workers=4)"
      ],
      "execution_count": null,
      "outputs": [
        {
          "output_type": "stream",
          "text": [
            "2021-05-06 06:59:09,021 - top2vec - INFO - Pre-processing documents for training\n",
            "INFO:top2vec:Pre-processing documents for training\n",
            "2021-05-06 07:00:05,621 - top2vec - INFO - Downloading universal-sentence-encoder model\n",
            "INFO:top2vec:Downloading universal-sentence-encoder model\n",
            "2021-05-06 07:00:10,359 - top2vec - INFO - Creating joint document/word embedding\n",
            "INFO:top2vec:Creating joint document/word embedding\n",
            "2021-05-06 07:03:06,030 - top2vec - INFO - Creating lower dimension embedding of documents\n",
            "INFO:top2vec:Creating lower dimension embedding of documents\n"
          ],
          "name": "stderr"
        }
      ]
    },
    {
      "cell_type": "code",
      "metadata": {
        "id": "zQJycY3TcfF-",
        "outputId": "690c3e7b-753f-4615-ad89-fb8bb941b510",
        "colab": {
          "base_uri": "https://localhost:8080/"
        }
      },
      "source": [
        "model.get_num_topics()"
      ],
      "execution_count": 10,
      "outputs": [
        {
          "output_type": "execute_result",
          "data": {
            "text/plain": [
              "2"
            ]
          },
          "metadata": {
            "tags": []
          },
          "execution_count": 10
        }
      ]
    },
    {
      "cell_type": "code",
      "metadata": {
        "id": "-Uh8uy_neE8P"
      },
      "source": [
        "topic_sizes, topic_nums = model.get_topic_sizes()\n",
        "print(\"Topic sizes: \", topic_sizes)\n",
        "print(\"Topic Numbers: \", topic_nums)"
      ],
      "execution_count": null,
      "outputs": []
    },
    {
      "cell_type": "code",
      "metadata": {
        "id": "EKsHndpWepGN"
      },
      "source": [
        "topic_words, word_scores, topic_scores, topic_nums = model.search_topics(keywords=[\"cleanliness\"], num_topics=5)\n",
        "for topic in topic_nums:\n",
        "    model.generate_topic_wordcloud(topic)"
      ],
      "execution_count": null,
      "outputs": []
    },
    {
      "cell_type": "code",
      "metadata": {
        "id": "HuvJp5FJe5xP"
      },
      "source": [
        "topic_words, word_scores, topic_scores, topic_nums = model.search_topics(keywords=[\"staff\"], num_topics=5)\n",
        "for topic in topic_nums:\n",
        "    model.generate_topic_wordcloud(topic)"
      ],
      "execution_count": null,
      "outputs": []
    }
  ]
}