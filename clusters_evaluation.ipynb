{
 "metadata": {
  "language_info": {
   "codemirror_mode": {
    "name": "ipython",
    "version": 3
   },
   "file_extension": ".py",
   "mimetype": "text/x-python",
   "name": "python",
   "nbconvert_exporter": "python",
   "pygments_lexer": "ipython3",
   "version": "3.8.0"
  },
  "orig_nbformat": 2,
  "kernelspec": {
   "name": "python3",
   "display_name": "Python 3.8.0 64-bit ('topic_modelling': conda)"
  },
  "interpreter": {
   "hash": "33ea4571294b160a8c9ba59d2d1217d533cade9e0aa979f130bb0787997e3281"
  }
 },
 "nbformat": 4,
 "nbformat_minor": 2,
 "cells": [
  {
   "cell_type": "code",
   "execution_count": null,
   "metadata": {},
   "outputs": [],
   "source": [
    "#This notebook is to get some insights about the clusters\n"
   ]
  },
  {
   "cell_type": "code",
   "execution_count": null,
   "metadata": {},
   "outputs": [],
   "source": [
    "#imports\n",
    "import random\n",
    "from tqdm import tqdm\n",
    "import numpy as np\n",
    "import os\n",
    "import matplotlib.pyplot as plt\n",
    "import pandas as pd\n",
    "\n",
    "#transformer imports\n",
    "from top2vec import Top2Vec\n",
    "\n",
    "#miscellaneous\n",
    "import fasttext\n",
    "import wandb\n",
    "\n"
   ]
  },
  {
   "cell_type": "code",
   "execution_count": null,
   "metadata": {},
   "outputs": [],
   "source": [
    "#load the model\n",
    "use = Top2Vec.load(\"use_top2vec.bin\")\n",
    "print(\"Total num of topics in use:\", use.get_num_topics())\n"
   ]
  },
  {
   "cell_type": "code",
   "execution_count": null,
   "metadata": {},
   "outputs": [],
   "source": [
    "use.hierarchical_topic_reduction(100)\n",
    "\n"
   ]
  },
  {
   "cell_type": "code",
   "execution_count": null,
   "metadata": {},
   "outputs": [],
   "source": [
    "#Get topic sizes\n",
    "topic_sizes, topic_nums = use.get_topic_sizes(reduced=False)\n",
    "plt.hist(topic_sizes, bins = 100, alpha=0.5)\n",
    "plt.xlim(0,1000)\n",
    "plt.xlabel('Number of documents')\n",
    "plt.title(\"Distribution of Number of docs across different topics(USE)\")\n"
   ]
  },
  {
   "cell_type": "code",
   "execution_count": null,
   "metadata": {},
   "outputs": [],
   "source": [
    "# sim_scores, doc_ids = doc2vec.search_documents_by_keywords(['dirty', 'covid', 'clean'], 5)\n",
    "# with open('booking_sentences_processed.txt', 'r') as f:\n",
    "#     documents = f.readlines()\n",
    "# for i in doc_ids:\n",
    "#     print(documents[i])"
   ]
  },
  {
   "cell_type": "code",
   "execution_count": null,
   "metadata": {},
   "outputs": [],
   "source": [
    "#testing word similarity (to be used in zero shot classification)\n",
    "keywords = ['covid']\n",
    "topic_words, word_scores, topic_scores, topic_nums = use.search_topics(keywords=keywords, num_topics=3, reduced=False)\n",
    "for topic in topic_nums:\n",
    "    use.generate_topic_wordcloud(topic, background_color='white')"
   ]
  },
  {
   "cell_type": "code",
   "execution_count": null,
   "metadata": {},
   "outputs": [],
   "source": [
    "topic_words, similarity_scores, topic_ids = use.get_topics(reduced=True)\n",
    "for topic_num in topic_ids:\n",
    "  use.generate_topic_wordcloud(topic_num, background_color='white', reduced=True)"
   ]
  },
  {
   "cell_type": "code",
   "execution_count": null,
   "metadata": {},
   "outputs": [],
   "source": []
  }
 ]
}