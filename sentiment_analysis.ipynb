{
  "nbformat": 4,
  "nbformat_minor": 0,
  "metadata": {
    "orig_nbformat": 4,
    "colab": {
      "name": "sentiment_analysis.ipynb",
      "provenance": []
    },
    "language_info": {
      "name": "python"
    },
    "kernelspec": {
      "name": "python3",
      "display_name": "Python 3"
    },
    "accelerator": "GPU"
  },
  "cells": [
    {
      "cell_type": "code",
      "metadata": {
        "id": "21ALr6ojenxd"
      },
      "source": [
        "!pip install transformers -q\n",
        "import pandas as pd\n",
        "import numpy as np\n",
        "import torch\n",
        "from transformers import pipeline\n",
        "# from transformers import pipeline, AutoModelForSequenceClassification, AutoTokenizer"
      ],
      "execution_count": null,
      "outputs": []
    },
    {
      "cell_type": "code",
      "metadata": {
        "id": "P-ak2dhLloMF"
      },
      "source": [
        "from tqdm import tqdm"
      ],
      "execution_count": null,
      "outputs": []
    },
    {
      "cell_type": "code",
      "metadata": {
        "id": "XsoAxkKyMbtq"
      },
      "source": [
        "# model = AutoModelForSequenceClassification.from_pretrained(\"nlptown/bert-base-multilingual-uncased-sentiment\")\n",
        "# tokenizer = AutoTokenizer.from_pretrained('bert-base-uncased')\n",
        "# sentiment_analysis = pipeline('text-classification', model=model, tokenizer=tokenizer, return_all_scores=True, device=0)\n"
      ],
      "execution_count": 3,
      "outputs": []
    },
    {
      "cell_type": "code",
      "metadata": {
        "id": "pkXCampMenxk",
        "outputId": "57585b56-53f6-4796-d7f9-64ef4b999f87",
        "colab": {
          "base_uri": "https://localhost:8080/"
        }
      },
      "source": [
        "sentiment_analysis = pipeline(\"sentiment-analysis\",model=\"siebert/sentiment-roberta-large-english\", return_all_scores=True, device=0)\n",
        "print(sentiment_analysis([\"I love this!\", \"I hate this.\"]))"
      ],
      "execution_count": 39,
      "outputs": [
        {
          "output_type": "stream",
          "text": [
            "[[{'label': 'NEGATIVE', 'score': 0.0011343901278451085}, {'label': 'POSITIVE', 'score': 0.9988656640052795}], [{'label': 'NEGATIVE', 'score': 0.999479353427887}, {'label': 'POSITIVE', 'score': 0.0005206770729273558}]]\n"
          ],
          "name": "stdout"
        }
      ]
    },
    {
      "cell_type": "code",
      "metadata": {
        "id": "tNZSVNIzenxv"
      },
      "source": [
        "def perform_sentiment_analysis(docs):\n",
        "    results = []\n",
        "    for pred in sentiment_analysis(docs):\n",
        "      score = pred['score']\n",
        "      if score < 0.6 and score > 0.4:\n",
        "        results.append('NEUTRAL')\n",
        "      else:\n",
        "        results.append(pred['label'])\n",
        "    return results\n"
      ],
      "execution_count": null,
      "outputs": []
    },
    {
      "cell_type": "code",
      "metadata": {
        "id": "H0vD0u1xgGUg"
      },
      "source": [
        "docs = [\"They forgot to mention the outside gates were shut between certain times.\",\n",
        "\"Not a problem in itself as it's the same key as the main doors.\",\n",
        "\"However, as we had to check out at 8am to get to the airport we were told to leave the keys in the flat and shut the door behind us.\",\n",
        "\"Luckily I checked to see if the gates were open (they needed the key to open from the inside as well).\",\n",
        "\"The gates were still shut, so we had to open the gates, one of us stayed there to keep open and make sure no one came in while the other dropped the keys back in the flat.Otherwise everything else was great.\",\n",
        "\"Great location.\",\n",
        "\"Very clean apartment and week equipped.\",\n",
        "\"Comfortable beds, spacious  rooms.\",\n",
        "\"Friendly staff.\",\n",
        "\"All good All\",\n",
        "\"Just one little negative - the coffee pods provided were the wrong size.\",\n",
        "\"However, one short text to the owner, and everything was sorted quickly.Thank you!\",\n",
        "\"I appreciated the spaciousness of the layout as well as the quality of the equipment provided.\",\n",
        "\"It was also ideally situated for my trip.\",\n",
        "\"The staff is very nice and helpful  All it's modern, restrooms, bedroom, rooftop.\",\n",
        "\"The elevator broke down on the last nite and wasn’t up till the next morning.\",\n",
        "\"Not a great variety of food around and it’s a bit of walking although hosts gives u a lot of location and data of restaurants.\",\n",
        "\"I would advise families with toddlers to stay away.\",\n",
        "\"It’s an apartment in a 1970s flat.\",\n",
        "\"A good mix of old and new.\",\n",
        "\"The apartment itself was ‘state of the art’ almost perfect interiors and design.\",\n",
        "\"Hosts were very helpful for an unfortunate event for me.\",\n",
        "\"Not really difficult to find, but I feel directions should be a bit more foolproof.\"\n",
        "\"Would have been perfect except I had to struggle the last nite and my check out morning due to faulty elevator.\",\n",
        "\"Had luggages and a baby to settle.\",\n",
        "\"No criticism.\",\n",
        "\"Very helpful & friendly staff at reception.\",\n",
        "\"Fast check-in and check-out.\",\n",
        "\"Very close to the main train and metro station with many stores.\",\n",
        "\"Clean and comfortable.\",\n",
        "\"Breakfast is not so much choices.\",\n",
        "\"Near to Airport.\",\n",
        "\"The shower was not working very well.\"]"
      ],
      "execution_count": null,
      "outputs": []
    },
    {
      "cell_type": "code",
      "metadata": {
        "id": "wcqbjhooMxjo",
        "outputId": "38fb3cc6-9ab5-4c65-dc82-34083f3ab040",
        "colab": {
          "base_uri": "https://localhost:8080/"
        }
      },
      "source": [
        "#evaluate the output\n",
        "sentiment_analysis([\"This hotel is not that good.\", \"Yo mama\"])"
      ],
      "execution_count": 34,
      "outputs": [
        {
          "output_type": "execute_result",
          "data": {
            "text/plain": [
              "[{'label': 'NEGATIVE', 'score': 0.9994877576828003},\n",
              " {'label': 'POSITIVE', 'score': 0.9792571663856506}]"
            ]
          },
          "metadata": {
            "tags": []
          },
          "execution_count": 34
        }
      ]
    },
    {
      "cell_type": "code",
      "metadata": {
        "id": "Z1dPpsyQNNgQ"
      },
      "source": [
        "score_dict = {\n",
        "    'POSITIVE': 1, 'NEGATIVE':-1\n",
        "}"
      ],
      "execution_count": 35,
      "outputs": []
    },
    {
      "cell_type": "code",
      "metadata": {
        "id": "FtZDEoFnViWu"
      },
      "source": [
        "sentence_df = pd.read_csv('stratified_random_samples.csv')\n",
        "sentence_df.index = sentence_df['Unnamed: 0']\n",
        "sentence_df = sentence_df.rename({'0':\"sentence\"}, axis = 1)\n",
        "sentence_df = sentence_df.drop('Unnamed: 0', axis=1)"
      ],
      "execution_count": 40,
      "outputs": []
    },
    {
      "cell_type": "code",
      "metadata": {
        "id": "frVS3S--ek6S",
        "outputId": "b320a5be-e34f-4355-f557-51ab7c8fbcd7",
        "colab": {
          "base_uri": "https://localhost:8080/",
          "height": 394
        }
      },
      "source": [
        "sentence_df.head(10)"
      ],
      "execution_count": 41,
      "outputs": [
        {
          "output_type": "execute_result",
          "data": {
            "text/html": [
              "<div>\n",
              "<style scoped>\n",
              "    .dataframe tbody tr th:only-of-type {\n",
              "        vertical-align: middle;\n",
              "    }\n",
              "\n",
              "    .dataframe tbody tr th {\n",
              "        vertical-align: top;\n",
              "    }\n",
              "\n",
              "    .dataframe thead th {\n",
              "        text-align: right;\n",
              "    }\n",
              "</style>\n",
              "<table border=\"1\" class=\"dataframe\">\n",
              "  <thead>\n",
              "    <tr style=\"text-align: right;\">\n",
              "      <th></th>\n",
              "      <th>sentence</th>\n",
              "    </tr>\n",
              "    <tr>\n",
              "      <th>Unnamed: 0</th>\n",
              "      <th></th>\n",
              "    </tr>\n",
              "  </thead>\n",
              "  <tbody>\n",
              "    <tr>\n",
              "      <th>6ca8df09-b670-4c97-9bd9-c3fb55f20ec4</th>\n",
              "      <td>Nothing :-)</td>\n",
              "    </tr>\n",
              "    <tr>\n",
              "      <th>be59260a-b214-4955-8909-3038ee184a68</th>\n",
              "      <td>Nothing comes to mind</td>\n",
              "    </tr>\n",
              "    <tr>\n",
              "      <th>4818571c-5e97-46d1-b78c-3f67c9407d98</th>\n",
              "      <td>Spend a little more.</td>\n",
              "    </tr>\n",
              "    <tr>\n",
              "      <th>b511befb-9f5f-48fd-a9e0-b472d4eb845a</th>\n",
              "      <td>Nothing really.</td>\n",
              "    </tr>\n",
              "    <tr>\n",
              "      <th>447c6e4d-6a67-42d6-8e2c-dd1a2b47526c</th>\n",
              "      <td>Nothing to note</td>\n",
              "    </tr>\n",
              "    <tr>\n",
              "      <th>38ae70da-67dd-452e-b8f6-e0162f475aa5</th>\n",
              "      <td>Otherwise nothing else.</td>\n",
              "    </tr>\n",
              "    <tr>\n",
              "      <th>208c8103-ee30-46fc-aebe-d452b57f54ed</th>\n",
              "      <td>It still didn’t work.</td>\n",
              "    </tr>\n",
              "    <tr>\n",
              "      <th>196c403f-f5c6-46df-a872-297b7363c8d1</th>\n",
              "      <td>A bit noisy from neighbours.</td>\n",
              "    </tr>\n",
              "    <tr>\n",
              "      <th>57e68959-7aeb-43a2-b28d-7785f4b9e705</th>\n",
              "      <td>Nothing in their control but a very loud train...</td>\n",
              "    </tr>\n",
              "    <tr>\n",
              "      <th>1a486449-50e6-4640-8e59-8dc5bdf5c109</th>\n",
              "      <td>I can hear the noise from neighbouring room.</td>\n",
              "    </tr>\n",
              "  </tbody>\n",
              "</table>\n",
              "</div>"
            ],
            "text/plain": [
              "                                                                               sentence\n",
              "Unnamed: 0                                                                             \n",
              "6ca8df09-b670-4c97-9bd9-c3fb55f20ec4                                        Nothing :-)\n",
              "be59260a-b214-4955-8909-3038ee184a68                              Nothing comes to mind\n",
              "4818571c-5e97-46d1-b78c-3f67c9407d98                               Spend a little more.\n",
              "b511befb-9f5f-48fd-a9e0-b472d4eb845a                                    Nothing really.\n",
              "447c6e4d-6a67-42d6-8e2c-dd1a2b47526c                                    Nothing to note\n",
              "38ae70da-67dd-452e-b8f6-e0162f475aa5                            Otherwise nothing else.\n",
              "208c8103-ee30-46fc-aebe-d452b57f54ed                              It still didn’t work.\n",
              "196c403f-f5c6-46df-a872-297b7363c8d1                       A bit noisy from neighbours.\n",
              "57e68959-7aeb-43a2-b28d-7785f4b9e705  Nothing in their control but a very loud train...\n",
              "1a486449-50e6-4640-8e59-8dc5bdf5c109       I can hear the noise from neighbouring room."
            ]
          },
          "metadata": {
            "tags": []
          },
          "execution_count": 41
        }
      ]
    },
    {
      "cell_type": "code",
      "metadata": {
        "id": "LSXfm-JPWN16"
      },
      "source": [
        "batch_size=64\n",
        "remaining = len(sentence_df)\n",
        "i = 0\n",
        "scores = []\n",
        "while remaining > 0:\n",
        "  if remaining > batch_size:\n",
        "    batch = list(sentence_df.iloc[i*batch_size:(i+1)*batch_size].sentence.values)\n",
        "    scores.extend(sentiment_analysis(batch))\n",
        "  else:\n",
        "    batch = list(sentence_df.iloc[i*batch_size:].sentence.values)\n",
        "    scores.extend(sentiment_analysis(batch))\n",
        "  remaining -= batch_size\n",
        "  i+= 1"
      ],
      "execution_count": 42,
      "outputs": []
    },
    {
      "cell_type": "code",
      "metadata": {
        "id": "u8klwc3hcRfx",
        "outputId": "63e0860f-178c-4d34-cbc6-f61ed68e5226",
        "colab": {
          "base_uri": "https://localhost:8080/"
        }
      },
      "source": [
        "sentence_df['sentiment_score'] = scores\n",
        "sentence_df.sentiment_score.head(10)"
      ],
      "execution_count": 48,
      "outputs": [
        {
          "output_type": "execute_result",
          "data": {
            "text/plain": [
              "Unnamed: 0\n",
              "6ca8df09-b670-4c97-9bd9-c3fb55f20ec4    [{'label': 'NEGATIVE', 'score': 0.998745262622...\n",
              "be59260a-b214-4955-8909-3038ee184a68    [{'label': 'NEGATIVE', 'score': 0.996769845485...\n",
              "4818571c-5e97-46d1-b78c-3f67c9407d98    [{'label': 'NEGATIVE', 'score': 0.005380967631...\n",
              "b511befb-9f5f-48fd-a9e0-b472d4eb845a    [{'label': 'NEGATIVE', 'score': 0.996590256690...\n",
              "447c6e4d-6a67-42d6-8e2c-dd1a2b47526c    [{'label': 'NEGATIVE', 'score': 0.999395012855...\n",
              "38ae70da-67dd-452e-b8f6-e0162f475aa5    [{'label': 'NEGATIVE', 'score': 0.999388873577...\n",
              "208c8103-ee30-46fc-aebe-d452b57f54ed    [{'label': 'NEGATIVE', 'score': 0.999497890472...\n",
              "196c403f-f5c6-46df-a872-297b7363c8d1    [{'label': 'NEGATIVE', 'score': 0.011973983608...\n",
              "57e68959-7aeb-43a2-b28d-7785f4b9e705    [{'label': 'NEGATIVE', 'score': 0.998017311096...\n",
              "1a486449-50e6-4640-8e59-8dc5bdf5c109    [{'label': 'NEGATIVE', 'score': 0.993081510066...\n",
              "Name: sentiment_score, dtype: object"
            ]
          },
          "metadata": {
            "tags": []
          },
          "execution_count": 48
        }
      ]
    },
    {
      "cell_type": "code",
      "metadata": {
        "id": "lU_5252ocejg",
        "outputId": "90bdcfaf-aa5b-4749-cf6d-445eba8ad2d2",
        "colab": {
          "base_uri": "https://localhost:8080/"
        }
      },
      "source": [
        "def calculate_final_score(scores):\n",
        "  final_score = 0\n",
        "  for score in scores:\n",
        "    final_score += (score_dict[score['label']]*score['score'])\n",
        "  return final_score\n",
        "calculate_final_score(sentiment_analysis(\"No view from my room.\")[0])"
      ],
      "execution_count": 49,
      "outputs": [
        {
          "output_type": "execute_result",
          "data": {
            "text/plain": [
              "-0.9988092263811268"
            ]
          },
          "metadata": {
            "tags": []
          },
          "execution_count": 49
        }
      ]
    },
    {
      "cell_type": "code",
      "metadata": {
        "id": "6oXDdiFhgVFt"
      },
      "source": [
        "sentence_df['sentiment_score'] = sentence_df.sentiment_score.apply(lambda x: calculate_final_score(x)) \n"
      ],
      "execution_count": 50,
      "outputs": []
    },
    {
      "cell_type": "code",
      "metadata": {
        "id": "3pYvu6SHd7I4"
      },
      "source": [
        "sentence_df.sort_values(by='sentiment_score', ascending=False, inplace=True)"
      ],
      "execution_count": 52,
      "outputs": []
    },
    {
      "cell_type": "code",
      "metadata": {
        "id": "E_2SdFi4YAcW",
        "outputId": "b741d14d-24fb-41c4-eb01-fdbabaf21603",
        "colab": {
          "base_uri": "https://localhost:8080/",
          "height": 455
        }
      },
      "source": [
        "sentence_df"
      ],
      "execution_count": 53,
      "outputs": [
        {
          "output_type": "execute_result",
          "data": {
            "text/html": [
              "<div>\n",
              "<style scoped>\n",
              "    .dataframe tbody tr th:only-of-type {\n",
              "        vertical-align: middle;\n",
              "    }\n",
              "\n",
              "    .dataframe tbody tr th {\n",
              "        vertical-align: top;\n",
              "    }\n",
              "\n",
              "    .dataframe thead th {\n",
              "        text-align: right;\n",
              "    }\n",
              "</style>\n",
              "<table border=\"1\" class=\"dataframe\">\n",
              "  <thead>\n",
              "    <tr style=\"text-align: right;\">\n",
              "      <th></th>\n",
              "      <th>sentence</th>\n",
              "      <th>sentiment_score</th>\n",
              "    </tr>\n",
              "    <tr>\n",
              "      <th>Unnamed: 0</th>\n",
              "      <th></th>\n",
              "      <th></th>\n",
              "    </tr>\n",
              "  </thead>\n",
              "  <tbody>\n",
              "    <tr>\n",
              "      <th>5018fe0c-1a7e-4d87-928d-b3e46e55502e</th>\n",
              "      <td>For the price we paid we did not have high exp...</td>\n",
              "      <td>0.997879</td>\n",
              "    </tr>\n",
              "    <tr>\n",
              "      <th>460943b6-6b51-4017-9603-d552df999013</th>\n",
              "      <td>I can’t fault anything about the accommodation...</td>\n",
              "      <td>0.997875</td>\n",
              "    </tr>\n",
              "    <tr>\n",
              "      <th>a6eeaaa7-249a-4bbf-8b09-633668dd7070</th>\n",
              "      <td>Breakfast was delicious - quality local produc...</td>\n",
              "      <td>0.997874</td>\n",
              "    </tr>\n",
              "    <tr>\n",
              "      <th>ddaffbb7-262b-40e5-96d3-91576d3b7462</th>\n",
              "      <td>We loved this place, 5+Great helpful friendly ...</td>\n",
              "      <td>0.997873</td>\n",
              "    </tr>\n",
              "    <tr>\n",
              "      <th>85f77a24-9f30-4971-8bce-78b9bf49f1b7</th>\n",
              "      <td>Exceptional value for money during peak season...</td>\n",
              "      <td>0.997870</td>\n",
              "    </tr>\n",
              "    <tr>\n",
              "      <th>...</th>\n",
              "      <td>...</td>\n",
              "      <td>...</td>\n",
              "    </tr>\n",
              "    <tr>\n",
              "      <th>05b95684-4f04-45dc-acdf-861355ee72a2</th>\n",
              "      <td>Unacceptable level of cleanliness on the whole.</td>\n",
              "      <td>-0.999021</td>\n",
              "    </tr>\n",
              "    <tr>\n",
              "      <th>04d14230-e8be-4b80-bf4e-12578d45d7b6</th>\n",
              "      <td>Shower dirty and leaked, staff unfriendly and ...</td>\n",
              "      <td>-0.999023</td>\n",
              "    </tr>\n",
              "    <tr>\n",
              "      <th>0a3b82ef-55df-4347-ac0d-9cd1ecc85788</th>\n",
              "      <td>We walked in from the street to get our room k...</td>\n",
              "      <td>-0.999026</td>\n",
              "    </tr>\n",
              "    <tr>\n",
              "      <th>5d500d99-ebdc-4eab-b065-e543c494b30a</th>\n",
              "      <td>room smelled from mold and although it is a ho...</td>\n",
              "      <td>-0.999028</td>\n",
              "    </tr>\n",
              "    <tr>\n",
              "      <th>358887a7-3768-4905-90f0-b525e98a80f8</th>\n",
              "      <td>It's OK if the price was fair, but we feel we ...</td>\n",
              "      <td>-0.999032</td>\n",
              "    </tr>\n",
              "  </tbody>\n",
              "</table>\n",
              "<p>1898 rows × 2 columns</p>\n",
              "</div>"
            ],
            "text/plain": [
              "                                                                               sentence  sentiment_score\n",
              "Unnamed: 0                                                                                              \n",
              "5018fe0c-1a7e-4d87-928d-b3e46e55502e  For the price we paid we did not have high exp...         0.997879\n",
              "460943b6-6b51-4017-9603-d552df999013  I can’t fault anything about the accommodation...         0.997875\n",
              "a6eeaaa7-249a-4bbf-8b09-633668dd7070  Breakfast was delicious - quality local produc...         0.997874\n",
              "ddaffbb7-262b-40e5-96d3-91576d3b7462  We loved this place, 5+Great helpful friendly ...         0.997873\n",
              "85f77a24-9f30-4971-8bce-78b9bf49f1b7  Exceptional value for money during peak season...         0.997870\n",
              "...                                                                                 ...              ...\n",
              "05b95684-4f04-45dc-acdf-861355ee72a2    Unacceptable level of cleanliness on the whole.        -0.999021\n",
              "04d14230-e8be-4b80-bf4e-12578d45d7b6  Shower dirty and leaked, staff unfriendly and ...        -0.999023\n",
              "0a3b82ef-55df-4347-ac0d-9cd1ecc85788  We walked in from the street to get our room k...        -0.999026\n",
              "5d500d99-ebdc-4eab-b065-e543c494b30a  room smelled from mold and although it is a ho...        -0.999028\n",
              "358887a7-3768-4905-90f0-b525e98a80f8  It's OK if the price was fair, but we feel we ...        -0.999032\n",
              "\n",
              "[1898 rows x 2 columns]"
            ]
          },
          "metadata": {
            "tags": []
          },
          "execution_count": 53
        }
      ]
    },
    {
      "cell_type": "code",
      "metadata": {
        "id": "ZWlasyoChT6G"
      },
      "source": [
        "sentence_df.to_csv('stratified_random_samples_sorted.csv', index=True)"
      ],
      "execution_count": 55,
      "outputs": []
    },
    {
      "cell_type": "code",
      "metadata": {
        "id": "CyxjUzdjf5S-",
        "outputId": "ac7878df-bb36-48b9-df82-426eb7238c62",
        "colab": {
          "base_uri": "https://localhost:8080/",
          "height": 270
        }
      },
      "source": [
        ""
      ],
      "execution_count": 24,
      "outputs": [
        {
          "output_type": "error",
          "ename": "TypeError",
          "evalue": "ignored",
          "traceback": [
            "\u001b[0;31m---------------------------------------------------------------------------\u001b[0m",
            "\u001b[0;31mTypeError\u001b[0m                                 Traceback (most recent call last)",
            "\u001b[0;32m<ipython-input-24-dcf1ce061af6>\u001b[0m in \u001b[0;36m<module>\u001b[0;34m()\u001b[0m\n\u001b[0;32m----> 1\u001b[0;31m \u001b[0mcalculate_final_score\u001b[0m\u001b[0;34m(\u001b[0m\u001b[0msentiment_analysis\u001b[0m\u001b[0;34m(\u001b[0m\u001b[0;34m\"No one cleaned the room.\"\u001b[0m\u001b[0;34m)\u001b[0m\u001b[0;34m)\u001b[0m\u001b[0;34m\u001b[0m\u001b[0;34m\u001b[0m\u001b[0m\n\u001b[0m",
            "\u001b[0;32m<ipython-input-20-b94f3b00117a>\u001b[0m in \u001b[0;36mcalculate_final_score\u001b[0;34m(scores)\u001b[0m\n\u001b[1;32m      2\u001b[0m   \u001b[0mfinal_score\u001b[0m \u001b[0;34m=\u001b[0m \u001b[0;36m0\u001b[0m\u001b[0;34m\u001b[0m\u001b[0;34m\u001b[0m\u001b[0m\n\u001b[1;32m      3\u001b[0m   \u001b[0;32mfor\u001b[0m \u001b[0mscore\u001b[0m \u001b[0;32min\u001b[0m \u001b[0mscores\u001b[0m\u001b[0;34m:\u001b[0m\u001b[0;34m\u001b[0m\u001b[0;34m\u001b[0m\u001b[0m\n\u001b[0;32m----> 4\u001b[0;31m     \u001b[0mfinal_score\u001b[0m \u001b[0;34m+=\u001b[0m \u001b[0;34m(\u001b[0m\u001b[0mscore_dict\u001b[0m\u001b[0;34m[\u001b[0m\u001b[0mscore\u001b[0m\u001b[0;34m[\u001b[0m\u001b[0;34m'label'\u001b[0m\u001b[0;34m]\u001b[0m\u001b[0;34m]\u001b[0m\u001b[0;34m*\u001b[0m\u001b[0mscore\u001b[0m\u001b[0;34m[\u001b[0m\u001b[0;34m'score'\u001b[0m\u001b[0;34m]\u001b[0m\u001b[0;34m)\u001b[0m\u001b[0;34m\u001b[0m\u001b[0;34m\u001b[0m\u001b[0m\n\u001b[0m\u001b[1;32m      5\u001b[0m   \u001b[0;32mreturn\u001b[0m \u001b[0mfinal_score\u001b[0m\u001b[0;34m\u001b[0m\u001b[0;34m\u001b[0m\u001b[0m\n",
            "\u001b[0;31mTypeError\u001b[0m: list indices must be integers or slices, not str"
          ]
        }
      ]
    },
    {
      "cell_type": "code",
      "metadata": {
        "id": "tAYyRVF6f84P"
      },
      "source": [
        ""
      ],
      "execution_count": null,
      "outputs": []
    }
  ]
}