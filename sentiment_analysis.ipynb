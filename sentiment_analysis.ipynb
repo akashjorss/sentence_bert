{
  "nbformat": 4,
  "nbformat_minor": 0,
  "metadata": {
    "orig_nbformat": 4,
    "colab": {
      "name": "sentiment_analysis.ipynb",
      "provenance": []
    },
    "language_info": {
      "name": "python"
    },
    "kernelspec": {
      "name": "python3",
      "display_name": "Python 3"
    }
  },
  "cells": [
    {
      "cell_type": "code",
      "metadata": {
        "id": "21ALr6ojenxd"
      },
      "source": [
        "!pip install transformers -q"
      ],
      "execution_count": null,
      "outputs": []
    },
    {
      "cell_type": "code",
      "metadata": {
        "id": "pkXCampMenxk"
      },
      "source": [
        "from transformers import pipeline\n",
        "sentiment_analysis = pipeline(\"sentiment-analysis\",model=\"siebert/sentiment-roberta-large-english\")\n",
        "print(sentiment_analysis([\"I love this!\", \"I hate this.\"]))"
      ],
      "execution_count": null,
      "outputs": []
    },
    {
      "cell_type": "code",
      "metadata": {
        "id": "tNZSVNIzenxv"
      },
      "source": [
        "def perform_sentiment_analysis(docs):\n",
        "    results = []\n",
        "    for pred in sentiment_analysis(docs):\n",
        "      score = pred['score']\n",
        "      if score < 0.6 and score > 0.4:\n",
        "        results.append('NEUTRAL')\n",
        "      else:\n",
        "        results.append(pred['label'])\n",
        "    return results\n"
      ],
      "execution_count": null,
      "outputs": []
    },
    {
      "cell_type": "code",
      "metadata": {
        "id": "H0vD0u1xgGUg"
      },
      "source": [
        "docs = [\"They forgot to mention the outside gates were shut between certain times.\",\n",
        "\"Not a problem in itself as it's the same key as the main doors.\",\n",
        "\"However, as we had to check out at 8am to get to the airport we were told to leave the keys in the flat and shut the door behind us.\",\n",
        "\"Luckily I checked to see if the gates were open (they needed the key to open from the inside as well).\",\n",
        "\"The gates were still shut, so we had to open the gates, one of us stayed there to keep open and make sure no one came in while the other dropped the keys back in the flat.Otherwise everything else was great.\",\n",
        "\"Great location.\",\n",
        "\"Very clean apartment and week equipped.\",\n",
        "\"Comfortable beds, spacious  rooms.\",\n",
        "\"Friendly staff.\",\n",
        "\"All good All\",\n",
        "\"Just one little negative - the coffee pods provided were the wrong size.\",\n",
        "\"However, one short text to the owner, and everything was sorted quickly.Thank you!\",\n",
        "\"I appreciated the spaciousness of the layout as well as the quality of the equipment provided.\",\n",
        "\"It was also ideally situated for my trip.\",\n",
        "\"The staff is very nice and helpful  All it's modern, restrooms, bedroom, rooftop.\",\n",
        "\"The elevator broke down on the last nite and wasn’t up till the next morning.\",\n",
        "\"Not a great variety of food around and it’s a bit of walking although hosts gives u a lot of location and data of restaurants.\",\n",
        "\"I would advise families with toddlers to stay away.\",\n",
        "\"It’s an apartment in a 1970s flat.\",\n",
        "\"A good mix of old and new.\",\n",
        "\"The apartment itself was ‘state of the art’ almost perfect interiors and design.\",\n",
        "\"Hosts were very helpful for an unfortunate event for me.\",\n",
        "\"Not really difficult to find, but I feel directions should be a bit more foolproof.\"\n",
        "\"Would have been perfect except I had to struggle the last nite and my check out morning due to faulty elevator.\",\n",
        "\"Had luggages and a baby to settle.\",\n",
        "\"No criticism.\",\n",
        "\"Very helpful & friendly staff at reception.\",\n",
        "\"Fast check-in and check-out.\",\n",
        "\"Very close to the main train and metro station with many stores.\",\n",
        "\"Clean and comfortable.\",\n",
        "\"Breakfast is not so much choices.\",\n",
        "\"Near to Airport.\",\n",
        "\"The shower was not working very well.\"]"
      ],
      "execution_count": null,
      "outputs": []
    },
    {
      "cell_type": "code",
      "metadata": {
        "id": "h5ip79ezgMJe"
      },
      "source": [
        "sentiment_labels = perform_sentiment_analysis(docs)\n",
        "for d, s in zip(docs, sentiment_labels):\n",
        "  print(d + \"---> \"+s)"
      ],
      "execution_count": null,
      "outputs": []
    },
    {
      "cell_type": "code",
      "metadata": {
        "id": "f3FCzUVSgdPT"
      },
      "source": [
        ""
      ],
      "execution_count": null,
      "outputs": []
    }
  ]
}