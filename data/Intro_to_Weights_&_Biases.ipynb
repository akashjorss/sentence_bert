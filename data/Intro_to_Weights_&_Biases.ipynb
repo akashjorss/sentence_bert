{
  "nbformat": 4,
  "nbformat_minor": 0,
  "metadata": {
    "colab": {
      "name": "Intro to Weights & Biases",
      "private_outputs": true,
      "provenance": [],
      "collapsed_sections": [],
      "toc_visible": true
    },
    "kernelspec": {
      "name": "python3",
      "display_name": "Python 3.8.0 64-bit ('topic_modelling': conda)"
    },
    "interpreter": {
      "hash": "33ea4571294b160a8c9ba59d2d1217d533cade9e0aa979f130bb0787997e3281"
    }
  },
  "cells": [
    {
      "cell_type": "markdown",
      "metadata": {
        "id": "astzjdx3ZG3b"
      },
      "source": [
        "<img src=\"https://i.imgur.com/gb6B4ig.png\" width=\"400\" alt=\"Weights & Biases\" />\n",
        "\n",
        "# 🏃‍♀️ Quickstart\n",
        "Use Weights & Biases for machine learning experiment tracking, dataset versioning, and project collaboration.\n",
        "\n",
        "<div><img /></div>\n",
        "\n",
        "<img src=\"https://i.imgur.com/uEtWSEb.png\" width=\"650\" alt=\"Weights & Biases\" />\n",
        "\n",
        "<div><img /></div>\n"
      ]
    },
    {
      "cell_type": "markdown",
      "metadata": {
        "id": "4KL9iOqLTyXJ"
      },
      "source": [
        "\n",
        "## 🔒 Data & Privacy\n",
        "\n",
        "We take security very seriously, and our cloud-hosted dashboard uses industry standard best practices for encryption. If you're working with datasets that cannot leave your enterprise cluster, we have [on-prem](https://docs.wandb.com/self-hosted) installations available. \n",
        "\n",
        "It's also easy to download all your data and export it to other tools— like custom analysis in a Jupyter notebook. Here's more on our [API](https://docs.wandb.com/library/api).\n",
        "\n",
        "\n"
      ]
    },
    {
      "cell_type": "markdown",
      "metadata": {
        "id": "bREQhiEzpGZ5"
      },
      "source": [
        "Start by installing the library and logging in to your free account."
      ]
    },
    {
      "cell_type": "code",
      "metadata": {
        "id": "wRsHBj-EpDHd"
      },
      "source": [
        "# !pip install wandb -qqq\n",
        "import wandb\n",
        "import ssl\n",
        "ssl._create_default_https_context = ssl._create_unverified_context"
      ],
      "execution_count": 1,
      "outputs": []
    },
    {
      "cell_type": "code",
      "metadata": {
        "id": "qwkOIVX90tdp"
      },
      "source": [
        "# Log in to your W&B account\n",
        "wandb.login()"
      ],
      "execution_count": 2,
      "outputs": [
        {
          "output_type": "stream",
          "name": "stderr",
          "text": [
            "Failed to detect the name of this notebook, you can set it manually with the WANDB_NOTEBOOK_NAME environment variable to enable code saving.\n",
            "Retry attempt failed:\n",
            "Traceback (most recent call last):\n",
            "  File \"/home/akash/anaconda3/envs/topic_modelling/lib/python3.8/site-packages/urllib3/connectionpool.py\", line 699, in urlopen\n",
            "    httplib_response = self._make_request(\n",
            "  File \"/home/akash/anaconda3/envs/topic_modelling/lib/python3.8/site-packages/urllib3/connectionpool.py\", line 382, in _make_request\n",
            "    self._validate_conn(conn)\n",
            "  File \"/home/akash/anaconda3/envs/topic_modelling/lib/python3.8/site-packages/urllib3/connectionpool.py\", line 1010, in _validate_conn\n",
            "    conn.connect()\n",
            "  File \"/home/akash/anaconda3/envs/topic_modelling/lib/python3.8/site-packages/urllib3/connection.py\", line 411, in connect\n",
            "    self.sock = ssl_wrap_socket(\n",
            "  File \"/home/akash/anaconda3/envs/topic_modelling/lib/python3.8/site-packages/urllib3/util/ssl_.py\", line 428, in ssl_wrap_socket\n",
            "    ssl_sock = _ssl_wrap_socket_impl(\n",
            "  File \"/home/akash/anaconda3/envs/topic_modelling/lib/python3.8/site-packages/urllib3/util/ssl_.py\", line 472, in _ssl_wrap_socket_impl\n",
            "    return ssl_context.wrap_socket(sock, server_hostname=server_hostname)\n",
            "  File \"/home/akash/anaconda3/envs/topic_modelling/lib/python3.8/ssl.py\", line 500, in wrap_socket\n",
            "    return self.sslsocket_class._create(\n",
            "  File \"/home/akash/anaconda3/envs/topic_modelling/lib/python3.8/ssl.py\", line 1040, in _create\n",
            "    self.do_handshake()\n",
            "  File \"/home/akash/anaconda3/envs/topic_modelling/lib/python3.8/ssl.py\", line 1309, in do_handshake\n",
            "    self._sslobj.do_handshake()\n",
            "ssl.SSLCertVerificationError: [SSL: CERTIFICATE_VERIFY_FAILED] certificate verify failed: unable to get local issuer certificate (_ssl.c:1108)\n",
            "\n",
            "During handling of the above exception, another exception occurred:\n",
            "\n",
            "Traceback (most recent call last):\n",
            "  File \"/home/akash/anaconda3/envs/topic_modelling/lib/python3.8/site-packages/requests/adapters.py\", line 439, in send\n",
            "    resp = conn.urlopen(\n",
            "  File \"/home/akash/anaconda3/envs/topic_modelling/lib/python3.8/site-packages/urllib3/connectionpool.py\", line 755, in urlopen\n",
            "    retries = retries.increment(\n",
            "  File \"/home/akash/anaconda3/envs/topic_modelling/lib/python3.8/site-packages/urllib3/util/retry.py\", line 574, in increment\n",
            "    raise MaxRetryError(_pool, url, error or ResponseError(cause))\n",
            "urllib3.exceptions.MaxRetryError: HTTPSConnectionPool(host='api.wandb.ai', port=443): Max retries exceeded with url: /graphql (Caused by SSLError(SSLCertVerificationError(1, '[SSL: CERTIFICATE_VERIFY_FAILED] certificate verify failed: unable to get local issuer certificate (_ssl.c:1108)')))\n",
            "\n",
            "During handling of the above exception, another exception occurred:\n",
            "\n",
            "Traceback (most recent call last):\n",
            "  File \"/home/akash/anaconda3/envs/topic_modelling/lib/python3.8/site-packages/wandb/sdk/lib/retry.py\", line 102, in __call__\n",
            "    result = self._call_fn(*args, **kwargs)\n",
            "  File \"/home/akash/anaconda3/envs/topic_modelling/lib/python3.8/site-packages/wandb/sdk/internal/internal_api.py\", line 127, in execute\n",
            "    return self.client.execute(*args, **kwargs)\n",
            "  File \"/home/akash/anaconda3/envs/topic_modelling/lib/python3.8/site-packages/wandb/vendor/gql-0.2.0/gql/client.py\", line 52, in execute\n",
            "    result = self._get_result(document, *args, **kwargs)\n",
            "  File \"/home/akash/anaconda3/envs/topic_modelling/lib/python3.8/site-packages/wandb/vendor/gql-0.2.0/gql/client.py\", line 60, in _get_result\n",
            "    return self.transport.execute(document, *args, **kwargs)\n",
            "  File \"/home/akash/anaconda3/envs/topic_modelling/lib/python3.8/site-packages/wandb/vendor/gql-0.2.0/gql/transport/requests.py\", line 38, in execute\n",
            "    request = requests.post(self.url, **post_args)\n",
            "  File \"/home/akash/anaconda3/envs/topic_modelling/lib/python3.8/site-packages/requests/api.py\", line 119, in post\n",
            "    return request('post', url, data=data, json=json, **kwargs)\n",
            "  File \"/home/akash/anaconda3/envs/topic_modelling/lib/python3.8/site-packages/requests/api.py\", line 61, in request\n",
            "    return session.request(method=method, url=url, **kwargs)\n",
            "  File \"/home/akash/anaconda3/envs/topic_modelling/lib/python3.8/site-packages/requests/sessions.py\", line 542, in request\n",
            "    resp = self.send(prep, **send_kwargs)\n",
            "  File \"/home/akash/anaconda3/envs/topic_modelling/lib/python3.8/site-packages/requests/sessions.py\", line 655, in send\n",
            "    r = adapter.send(request, **kwargs)\n",
            "  File \"/home/akash/anaconda3/envs/topic_modelling/lib/python3.8/site-packages/requests/adapters.py\", line 514, in send\n",
            "    raise SSLError(e, request=request)\n",
            "requests.exceptions.SSLError: HTTPSConnectionPool(host='api.wandb.ai', port=443): Max retries exceeded with url: /graphql (Caused by SSLError(SSLCertVerificationError(1, '[SSL: CERTIFICATE_VERIFY_FAILED] certificate verify failed: unable to get local issuer certificate (_ssl.c:1108)')))\n",
            "\u001b[34m\u001b[1mwandb\u001b[0m: Network error (SSLError), entering retry loop.\n",
            "\u001b[34m\u001b[1mwandb\u001b[0m: W&B API key is configured (use `wandb login --relogin` to force relogin)\n"
          ]
        },
        {
          "output_type": "execute_result",
          "data": {
            "text/plain": [
              "True"
            ]
          },
          "metadata": {},
          "execution_count": 2
        }
      ]
    },
    {
      "cell_type": "markdown",
      "metadata": {
        "id": "8moOgk_Dpegd"
      },
      "source": [
        "## 👟 Run an experiment\n",
        "1️⃣. **Start a new run** and pass in hyperparameters to track\n",
        "\n",
        "2️⃣. **Log metrics** from training or evaluation\n",
        "\n",
        "3️⃣. **Visualize results** in the dashboard"
      ]
    },
    {
      "cell_type": "code",
      "metadata": {
        "id": "-VE3MabfZAcx"
      },
      "source": [
        "import math\n",
        "import random\n",
        "\n",
        "# Launch 5 simulated experiments\n",
        "for run in range(5):\n",
        "  # 1️⃣ Start a new run to track this script\n",
        "  wandb.init(\n",
        "      # Set entity to specify your username or team name\n",
        "      # ex: entity=\"carey\",\n",
        "      # Set the project where this run will be logged\n",
        "      project=\"basic-intro_from_local\", \n",
        "      # Track hyperparameters and run metadata\n",
        "      config={\n",
        "      \"learning_rate\": 0.02,\n",
        "      \"architecture\": \"CNN\",\n",
        "      \"dataset\": \"CIFAR-100\",})\n",
        "  \n",
        "  offset = random.random()\n",
        "\n",
        "  # This simple block simulates a training loop logging metrics\n",
        "  for x in range(50):\n",
        "      acc = 0.16 * (math.log(1 + x + random.random()) + random.random() + offset)\n",
        "      loss = 1 - 0.16 * (math.log(1 + x + random.random()) + random.random() + offset)\n",
        "      # 2️⃣ Log metrics from your script to W&B\n",
        "      wandb.log({\"acc\":acc, \"loss\":loss})\n",
        "\n",
        "  # Mark the run as finished\n",
        "  wandb.finish()"
      ],
      "execution_count": null,
      "outputs": []
    },
    {
      "cell_type": "markdown",
      "metadata": {
        "id": "ApRtY4ZFt_su"
      },
      "source": [
        "3️⃣ Here's an [example](https://wandb.ai/carey/pytorch-sweep) of what an interactive dashboard looks like in W&B.\n",
        "![](https://i.imgur.com/4I51OuT.png)"
      ]
    },
    {
      "cell_type": "markdown",
      "metadata": {
        "id": "VIwkQ8QC3JZU"
      },
      "source": [
        "# 🧠 Example Model\n",
        "Train a quick model in Keras and track results with W&B. Check our [examples repo](https://github.com/wandb/examples) for scripts and Colabs using Keras, PyTorch, TensorFlow, Scikit, XGBoost and more."
      ]
    },
    {
      "cell_type": "markdown",
      "metadata": {
        "id": "Ja6PVWTT_77U"
      },
      "source": [
        "## 🥕 Simple Keras DNN\n",
        "Run this model to train a simple MNIST classifier, and click on the project page link to see your results stream in live to a W&B project."
      ]
    },
    {
      "cell_type": "code",
      "metadata": {
        "id": "8yrgPBRXrvx2"
      },
      "source": [
        "# Simple Keras Model\n",
        "\n",
        "import tensorflow as tf\n",
        "from tensorflow.keras.callbacks import Callback\n",
        "from wandb.keras import WandbCallback\n",
        "import random\n",
        "\n",
        "# Launch 20 experiments, trying different dropout rates\n",
        "for run in range(20):\n",
        "  # Start a run, tracking hyperparameters\n",
        "  wandb.init(\n",
        "      project=\"keras-intro\",\n",
        "      # Set entity to specify your username or team name\n",
        "      # ex: entity=\"carey\",\n",
        "      config={\n",
        "          \"layer_1\": 512,\n",
        "          \"activation_1\": \"relu\",\n",
        "          \"dropout\": random.uniform(0.01, 0.80),\n",
        "          \"layer_2\": 10,\n",
        "          \"activation_2\": \"softmax\",\n",
        "          \"optimizer\": \"sgd\",\n",
        "          \"loss\": \"sparse_categorical_crossentropy\",\n",
        "          \"metric\": \"accuracy\",\n",
        "          \"epoch\": 6,\n",
        "          \"batch_size\": 32\n",
        "      })\n",
        "  config = wandb.config\n",
        "\n",
        "  # Get the data\n",
        "  mnist = tf.keras.datasets.mnist\n",
        "  (x_train, y_train), (x_test, y_test) = mnist.load_data()\n",
        "  x_train, x_test = x_train / 255.0, x_test / 255.0\n",
        "  x_train, y_train = x_train[::5], y_train[::5]  # Subset data for a faster demo\n",
        "\n",
        "  # Build a model\n",
        "  model = tf.keras.models.Sequential([\n",
        "      tf.keras.layers.Flatten(input_shape=(28, 28)),\n",
        "      tf.keras.layers.Dense(config.layer_1, activation=config.activation_1),\n",
        "      tf.keras.layers.Dropout(config.dropout),\n",
        "      tf.keras.layers.Dense(config.layer_2, activation=config.activation_2)\n",
        "      ])\n",
        "\n",
        "  model.compile(optimizer=config.optimizer,\n",
        "                loss=config.loss,\n",
        "                metrics=[config.metric]\n",
        "                )\n",
        "\n",
        "  history = model.fit(x=x_train,\n",
        "                      y=y_train,\n",
        "                      epochs=config.epoch,\n",
        "                      batch_size=config.batch_size,\n",
        "                      validation_data=(x_test, y_test),\n",
        "                      # WandbCallback auto-saves all metrics from model.fit()\n",
        "                      callbacks=[WandbCallback()]\n",
        "                      )\n",
        "\n",
        "  # Mark the run as finished\n",
        "  wandb.finish()"
      ],
      "execution_count": null,
      "outputs": []
    },
    {
      "cell_type": "markdown",
      "metadata": {
        "id": "mfrYlY1N9vTl"
      },
      "source": [
        "## 📊 Visualize Results\n",
        "\n",
        "Click on the **project page** link above to see your live results.\n"
      ]
    },
    {
      "cell_type": "markdown",
      "metadata": {
        "id": "2A4CVu1L1zN0"
      },
      "source": [
        "\n",
        "## 🎨 Example Gallery\n",
        "\n",
        "See examples of projects tracked and visualized with W&B in our [Gallery →](https://app.wandb.ai/gallery)"
      ]
    },
    {
      "cell_type": "markdown",
      "metadata": {
        "id": "XAdq9OcVhTcE"
      },
      "source": [
        "# 📏 Best Practices\n",
        "\n",
        "1. **Projects**: Log multiple runs to a project to compare them. `wandb.init(project=\"project-name\")`\n",
        "2. **Groups**: For multiple processes or cross validation folds, log each process as a run and group them together. `wandb.init(group='experiment-1')`\n",
        "3. **Tags**: Add tags to track your current baseline or production model.\n",
        "4. **Notes**: Type notes in the table to track the changes between runs.\n",
        "5. **Reports**: Take quick notes on progress to share with colleagues and make dashboards and snapshots of your ML projects.\n"
      ]
    },
    {
      "cell_type": "markdown",
      "metadata": {
        "id": "28NIm3FQ15uL"
      },
      "source": [
        "\n",
        "### 🤓 Advanced Setup\n",
        "\n",
        "1. [Environment variables](https://docs.wandb.com/library/environment-variables): Set API keys in environment variables so you can run training on a managed cluster.\n",
        "2. [Offline mode](https://docs.wandb.com/library/technical-faq#can-i-run-wandb-offline): Use `dryrun` mode to train offline and sync results later.\n",
        "3. [On-prem](https://docs.wandb.com/self-hosted): Install W&B in a private cloud or air-gapped servers in your own infrastructure. We have local installations for everyone from academics to enterprise teams.\n",
        "4. [Sweeps](http://wandb.me/sweeps-colab): Set up hyperparameter search quickly with our lightweight tool for tuning.\n",
        "5. [Artifacts](http://wandb.me/artifacts-colab): Track and version models and datasets in a streamlined way that automatically picks up your pipeline steps as you train models."
      ]
    }
  ]
}